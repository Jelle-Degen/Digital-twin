{
 "cells": [
  {
   "cell_type": "code",
   "execution_count": null,
   "id": "e9dbca74",
   "metadata": {},
   "outputs": [
    {
     "name": "stdout",
     "output_type": "stream",
     "text": [
      "Processing /Users/jelle/Library/CloudStorage/OneDrive-Personal/GitHub/Digital-twin\n",
      "  Preparing metadata (setup.py) ... \u001b[?25ldone\n",
      "\u001b[?25hRequirement already satisfied: earthpy==0.9.4 in /Users/jelle/anaconda3/envs/satellite-images-nso-datascience/lib/python3.12/site-packages (from Digital-twin==1.0.1) (0.9.4)\n",
      "Requirement already satisfied: geopandas==1.0.1 in /Users/jelle/anaconda3/envs/satellite-images-nso-datascience/lib/python3.12/site-packages (from Digital-twin==1.0.1) (1.0.1)\n",
      "Requirement already satisfied: scikit-learn==1.4.0 in /Users/jelle/anaconda3/envs/satellite-images-nso-datascience/lib/python3.12/site-packages (from Digital-twin==1.0.1) (1.4.0)\n",
      "Requirement already satisfied: rasterio==1.3.9 in /Users/jelle/anaconda3/envs/satellite-images-nso-datascience/lib/python3.12/site-packages (from Digital-twin==1.0.1) (1.3.9)\n",
      "Requirement already satisfied: fiona==1.9.5 in /Users/jelle/anaconda3/envs/satellite-images-nso-datascience/lib/python3.12/site-packages (from Digital-twin==1.0.1) (1.9.5)\n",
      "Requirement already satisfied: pyarrow==15.0.0 in /Users/jelle/anaconda3/envs/satellite-images-nso-datascience/lib/python3.12/site-packages (from Digital-twin==1.0.1) (15.0.0)\n",
      "Requirement already satisfied: fastparquet==2024.2.0 in /Users/jelle/anaconda3/envs/satellite-images-nso-datascience/lib/python3.12/site-packages (from Digital-twin==1.0.1) (2024.2.0)\n",
      "Requirement already satisfied: imblearn==0.0 in /Users/jelle/anaconda3/envs/satellite-images-nso-datascience/lib/python3.12/site-packages (from Digital-twin==1.0.1) (0.0)\n",
      "Requirement already satisfied: mlflow==2.10.2 in /Users/jelle/anaconda3/envs/satellite-images-nso-datascience/lib/python3.12/site-packages (from Digital-twin==1.0.1) (2.10.2)\n",
      "Requirement already satisfied: matplotlib>=2.0.0 in /Users/jelle/anaconda3/envs/satellite-images-nso-datascience/lib/python3.12/site-packages (from earthpy==0.9.4->Digital-twin==1.0.1) (3.10.5)\n",
      "Requirement already satisfied: numpy>=1.14.0 in /Users/jelle/anaconda3/envs/satellite-images-nso-datascience/lib/python3.12/site-packages (from earthpy==0.9.4->Digital-twin==1.0.1) (1.26.4)\n",
      "Requirement already satisfied: scikit-image in /Users/jelle/anaconda3/envs/satellite-images-nso-datascience/lib/python3.12/site-packages (from earthpy==0.9.4->Digital-twin==1.0.1) (0.25.2)\n",
      "Requirement already satisfied: requests in /Users/jelle/anaconda3/envs/satellite-images-nso-datascience/lib/python3.12/site-packages (from earthpy==0.9.4->Digital-twin==1.0.1) (2.32.4)\n",
      "Requirement already satisfied: pandas>=1.5.0 in /Users/jelle/anaconda3/envs/satellite-images-nso-datascience/lib/python3.12/site-packages (from fastparquet==2024.2.0->Digital-twin==1.0.1) (2.3.1)\n",
      "Requirement already satisfied: cramjam>=2.3 in /Users/jelle/anaconda3/envs/satellite-images-nso-datascience/lib/python3.12/site-packages (from fastparquet==2024.2.0->Digital-twin==1.0.1) (2.11.0)\n",
      "Requirement already satisfied: fsspec in /Users/jelle/anaconda3/envs/satellite-images-nso-datascience/lib/python3.12/site-packages (from fastparquet==2024.2.0->Digital-twin==1.0.1) (2025.7.0)\n",
      "Requirement already satisfied: packaging in /Users/jelle/anaconda3/envs/satellite-images-nso-datascience/lib/python3.12/site-packages (from fastparquet==2024.2.0->Digital-twin==1.0.1) (23.2)\n",
      "Requirement already satisfied: attrs>=19.2.0 in /Users/jelle/anaconda3/envs/satellite-images-nso-datascience/lib/python3.12/site-packages (from fiona==1.9.5->Digital-twin==1.0.1) (25.3.0)\n",
      "Requirement already satisfied: certifi in /Users/jelle/anaconda3/envs/satellite-images-nso-datascience/lib/python3.12/site-packages (from fiona==1.9.5->Digital-twin==1.0.1) (2025.7.14)\n",
      "Requirement already satisfied: click~=8.0 in /Users/jelle/anaconda3/envs/satellite-images-nso-datascience/lib/python3.12/site-packages (from fiona==1.9.5->Digital-twin==1.0.1) (8.2.1)\n",
      "Requirement already satisfied: click-plugins>=1.0 in /Users/jelle/anaconda3/envs/satellite-images-nso-datascience/lib/python3.12/site-packages (from fiona==1.9.5->Digital-twin==1.0.1) (1.1.1.2)\n",
      "Requirement already satisfied: cligj>=0.5 in /Users/jelle/anaconda3/envs/satellite-images-nso-datascience/lib/python3.12/site-packages (from fiona==1.9.5->Digital-twin==1.0.1) (0.7.2)\n",
      "Requirement already satisfied: six in /Users/jelle/anaconda3/envs/satellite-images-nso-datascience/lib/python3.12/site-packages (from fiona==1.9.5->Digital-twin==1.0.1) (1.17.0)\n",
      "Requirement already satisfied: setuptools in /Users/jelle/anaconda3/envs/satellite-images-nso-datascience/lib/python3.12/site-packages (from fiona==1.9.5->Digital-twin==1.0.1) (78.1.1)\n",
      "Requirement already satisfied: pyogrio>=0.7.2 in /Users/jelle/anaconda3/envs/satellite-images-nso-datascience/lib/python3.12/site-packages (from geopandas==1.0.1->Digital-twin==1.0.1) (0.11.0)\n",
      "Requirement already satisfied: pyproj>=3.3.0 in /Users/jelle/anaconda3/envs/satellite-images-nso-datascience/lib/python3.12/site-packages (from geopandas==1.0.1->Digital-twin==1.0.1) (3.7.1)\n",
      "Requirement already satisfied: shapely>=2.0.0 in /Users/jelle/anaconda3/envs/satellite-images-nso-datascience/lib/python3.12/site-packages (from geopandas==1.0.1->Digital-twin==1.0.1) (2.1.1)\n",
      "Requirement already satisfied: imbalanced-learn in /Users/jelle/anaconda3/envs/satellite-images-nso-datascience/lib/python3.12/site-packages (from imblearn==0.0->Digital-twin==1.0.1) (0.13.0)\n",
      "Requirement already satisfied: cloudpickle<4 in /Users/jelle/anaconda3/envs/satellite-images-nso-datascience/lib/python3.12/site-packages (from mlflow==2.10.2->Digital-twin==1.0.1) (3.1.1)\n",
      "Requirement already satisfied: entrypoints<1 in /Users/jelle/anaconda3/envs/satellite-images-nso-datascience/lib/python3.12/site-packages (from mlflow==2.10.2->Digital-twin==1.0.1) (0.4)\n",
      "Requirement already satisfied: gitpython<4,>=2.1.0 in /Users/jelle/anaconda3/envs/satellite-images-nso-datascience/lib/python3.12/site-packages (from mlflow==2.10.2->Digital-twin==1.0.1) (3.1.45)\n",
      "Requirement already satisfied: pyyaml<7,>=5.1 in /Users/jelle/anaconda3/envs/satellite-images-nso-datascience/lib/python3.12/site-packages (from mlflow==2.10.2->Digital-twin==1.0.1) (6.0.2)\n",
      "Requirement already satisfied: protobuf<5,>=3.12.0 in /Users/jelle/anaconda3/envs/satellite-images-nso-datascience/lib/python3.12/site-packages (from mlflow==2.10.2->Digital-twin==1.0.1) (4.25.8)\n",
      "Requirement already satisfied: pytz<2024 in /Users/jelle/anaconda3/envs/satellite-images-nso-datascience/lib/python3.12/site-packages (from mlflow==2.10.2->Digital-twin==1.0.1) (2023.4)\n",
      "Requirement already satisfied: importlib-metadata!=4.7.0,<8,>=3.7.0 in /Users/jelle/anaconda3/envs/satellite-images-nso-datascience/lib/python3.12/site-packages (from mlflow==2.10.2->Digital-twin==1.0.1) (7.2.1)\n",
      "Requirement already satisfied: sqlparse<1,>=0.4.0 in /Users/jelle/anaconda3/envs/satellite-images-nso-datascience/lib/python3.12/site-packages (from mlflow==2.10.2->Digital-twin==1.0.1) (0.5.3)\n",
      "Requirement already satisfied: alembic!=1.10.0,<2 in /Users/jelle/anaconda3/envs/satellite-images-nso-datascience/lib/python3.12/site-packages (from mlflow==2.10.2->Digital-twin==1.0.1) (1.16.4)\n",
      "Requirement already satisfied: docker<8,>=4.0.0 in /Users/jelle/anaconda3/envs/satellite-images-nso-datascience/lib/python3.12/site-packages (from mlflow==2.10.2->Digital-twin==1.0.1) (7.1.0)\n",
      "Requirement already satisfied: Flask<4 in /Users/jelle/anaconda3/envs/satellite-images-nso-datascience/lib/python3.12/site-packages (from mlflow==2.10.2->Digital-twin==1.0.1) (3.1.1)\n",
      "Requirement already satisfied: scipy<2 in /Users/jelle/anaconda3/envs/satellite-images-nso-datascience/lib/python3.12/site-packages (from mlflow==2.10.2->Digital-twin==1.0.1) (1.16.1)\n",
      "Requirement already satisfied: querystring-parser<2 in /Users/jelle/anaconda3/envs/satellite-images-nso-datascience/lib/python3.12/site-packages (from mlflow==2.10.2->Digital-twin==1.0.1) (1.2.4)\n",
      "Requirement already satisfied: sqlalchemy<3,>=1.4.0 in /Users/jelle/anaconda3/envs/satellite-images-nso-datascience/lib/python3.12/site-packages (from mlflow==2.10.2->Digital-twin==1.0.1) (2.0.42)\n",
      "Requirement already satisfied: markdown<4,>=3.3 in /Users/jelle/anaconda3/envs/satellite-images-nso-datascience/lib/python3.12/site-packages (from mlflow==2.10.2->Digital-twin==1.0.1) (3.8.2)\n",
      "Requirement already satisfied: gunicorn<22 in /Users/jelle/anaconda3/envs/satellite-images-nso-datascience/lib/python3.12/site-packages (from mlflow==2.10.2->Digital-twin==1.0.1) (21.2.0)\n",
      "Requirement already satisfied: Jinja2<4,>=2.11 in /Users/jelle/anaconda3/envs/satellite-images-nso-datascience/lib/python3.12/site-packages (from mlflow==2.10.2->Digital-twin==1.0.1) (3.1.6)\n",
      "Requirement already satisfied: joblib>=1.2.0 in /Users/jelle/anaconda3/envs/satellite-images-nso-datascience/lib/python3.12/site-packages (from scikit-learn==1.4.0->Digital-twin==1.0.1) (1.5.1)\n",
      "Requirement already satisfied: threadpoolctl>=2.0.0 in /Users/jelle/anaconda3/envs/satellite-images-nso-datascience/lib/python3.12/site-packages (from scikit-learn==1.4.0->Digital-twin==1.0.1) (3.6.0)\n",
      "Requirement already satisfied: affine in /Users/jelle/anaconda3/envs/satellite-images-nso-datascience/lib/python3.12/site-packages (from rasterio==1.3.9->Digital-twin==1.0.1) (2.4.0)\n",
      "Requirement already satisfied: snuggs>=1.4.1 in /Users/jelle/anaconda3/envs/satellite-images-nso-datascience/lib/python3.12/site-packages (from rasterio==1.3.9->Digital-twin==1.0.1) (1.4.7)\n",
      "Requirement already satisfied: Mako in /Users/jelle/anaconda3/envs/satellite-images-nso-datascience/lib/python3.12/site-packages (from alembic!=1.10.0,<2->mlflow==2.10.2->Digital-twin==1.0.1) (1.3.10)\n",
      "Requirement already satisfied: typing-extensions>=4.12 in /Users/jelle/anaconda3/envs/satellite-images-nso-datascience/lib/python3.12/site-packages (from alembic!=1.10.0,<2->mlflow==2.10.2->Digital-twin==1.0.1) (4.14.1)\n",
      "Requirement already satisfied: urllib3>=1.26.0 in /Users/jelle/anaconda3/envs/satellite-images-nso-datascience/lib/python3.12/site-packages (from docker<8,>=4.0.0->mlflow==2.10.2->Digital-twin==1.0.1) (2.5.0)\n",
      "Requirement already satisfied: blinker>=1.9.0 in /Users/jelle/anaconda3/envs/satellite-images-nso-datascience/lib/python3.12/site-packages (from Flask<4->mlflow==2.10.2->Digital-twin==1.0.1) (1.9.0)\n",
      "Requirement already satisfied: itsdangerous>=2.2.0 in /Users/jelle/anaconda3/envs/satellite-images-nso-datascience/lib/python3.12/site-packages (from Flask<4->mlflow==2.10.2->Digital-twin==1.0.1) (2.2.0)\n",
      "Requirement already satisfied: markupsafe>=2.1.1 in /Users/jelle/anaconda3/envs/satellite-images-nso-datascience/lib/python3.12/site-packages (from Flask<4->mlflow==2.10.2->Digital-twin==1.0.1) (3.0.2)\n",
      "Requirement already satisfied: werkzeug>=3.1.0 in /Users/jelle/anaconda3/envs/satellite-images-nso-datascience/lib/python3.12/site-packages (from Flask<4->mlflow==2.10.2->Digital-twin==1.0.1) (3.1.3)\n",
      "Requirement already satisfied: gitdb<5,>=4.0.1 in /Users/jelle/anaconda3/envs/satellite-images-nso-datascience/lib/python3.12/site-packages (from gitpython<4,>=2.1.0->mlflow==2.10.2->Digital-twin==1.0.1) (4.0.12)\n",
      "Requirement already satisfied: smmap<6,>=3.0.1 in /Users/jelle/anaconda3/envs/satellite-images-nso-datascience/lib/python3.12/site-packages (from gitdb<5,>=4.0.1->gitpython<4,>=2.1.0->mlflow==2.10.2->Digital-twin==1.0.1) (5.0.2)\n",
      "Requirement already satisfied: zipp>=0.5 in /Users/jelle/anaconda3/envs/satellite-images-nso-datascience/lib/python3.12/site-packages (from importlib-metadata!=4.7.0,<8,>=3.7.0->mlflow==2.10.2->Digital-twin==1.0.1) (3.23.0)\n",
      "Requirement already satisfied: contourpy>=1.0.1 in /Users/jelle/anaconda3/envs/satellite-images-nso-datascience/lib/python3.12/site-packages (from matplotlib>=2.0.0->earthpy==0.9.4->Digital-twin==1.0.1) (1.3.3)\n",
      "Requirement already satisfied: cycler>=0.10 in /Users/jelle/anaconda3/envs/satellite-images-nso-datascience/lib/python3.12/site-packages (from matplotlib>=2.0.0->earthpy==0.9.4->Digital-twin==1.0.1) (0.12.1)\n",
      "Requirement already satisfied: fonttools>=4.22.0 in /Users/jelle/anaconda3/envs/satellite-images-nso-datascience/lib/python3.12/site-packages (from matplotlib>=2.0.0->earthpy==0.9.4->Digital-twin==1.0.1) (4.59.0)\n",
      "Requirement already satisfied: kiwisolver>=1.3.1 in /Users/jelle/anaconda3/envs/satellite-images-nso-datascience/lib/python3.12/site-packages (from matplotlib>=2.0.0->earthpy==0.9.4->Digital-twin==1.0.1) (1.4.8)\n",
      "Requirement already satisfied: pillow>=8 in /Users/jelle/anaconda3/envs/satellite-images-nso-datascience/lib/python3.12/site-packages (from matplotlib>=2.0.0->earthpy==0.9.4->Digital-twin==1.0.1) (11.3.0)\n",
      "Requirement already satisfied: pyparsing>=2.3.1 in /Users/jelle/anaconda3/envs/satellite-images-nso-datascience/lib/python3.12/site-packages (from matplotlib>=2.0.0->earthpy==0.9.4->Digital-twin==1.0.1) (3.2.3)\n",
      "Requirement already satisfied: python-dateutil>=2.7 in /Users/jelle/anaconda3/envs/satellite-images-nso-datascience/lib/python3.12/site-packages (from matplotlib>=2.0.0->earthpy==0.9.4->Digital-twin==1.0.1) (2.9.0.post0)\n",
      "Requirement already satisfied: tzdata>=2022.7 in /Users/jelle/anaconda3/envs/satellite-images-nso-datascience/lib/python3.12/site-packages (from pandas>=1.5.0->fastparquet==2024.2.0->Digital-twin==1.0.1) (2025.2)\n",
      "Requirement already satisfied: charset_normalizer<4,>=2 in /Users/jelle/anaconda3/envs/satellite-images-nso-datascience/lib/python3.12/site-packages (from requests->earthpy==0.9.4->Digital-twin==1.0.1) (3.4.2)\n",
      "Requirement already satisfied: idna<4,>=2.5 in /Users/jelle/anaconda3/envs/satellite-images-nso-datascience/lib/python3.12/site-packages (from requests->earthpy==0.9.4->Digital-twin==1.0.1) (3.10)\n",
      "Requirement already satisfied: sklearn-compat<1,>=0.1 in /Users/jelle/anaconda3/envs/satellite-images-nso-datascience/lib/python3.12/site-packages (from imbalanced-learn->imblearn==0.0->Digital-twin==1.0.1) (0.1.3)\n",
      "Requirement already satisfied: networkx>=3.0 in /Users/jelle/anaconda3/envs/satellite-images-nso-datascience/lib/python3.12/site-packages (from scikit-image->earthpy==0.9.4->Digital-twin==1.0.1) (3.5)\n",
      "Requirement already satisfied: imageio!=2.35.0,>=2.33 in /Users/jelle/anaconda3/envs/satellite-images-nso-datascience/lib/python3.12/site-packages (from scikit-image->earthpy==0.9.4->Digital-twin==1.0.1) (2.37.0)\n",
      "Requirement already satisfied: tifffile>=2022.8.12 in /Users/jelle/anaconda3/envs/satellite-images-nso-datascience/lib/python3.12/site-packages (from scikit-image->earthpy==0.9.4->Digital-twin==1.0.1) (2025.6.11)\n",
      "Requirement already satisfied: lazy-loader>=0.4 in /Users/jelle/anaconda3/envs/satellite-images-nso-datascience/lib/python3.12/site-packages (from scikit-image->earthpy==0.9.4->Digital-twin==1.0.1) (0.4)\n",
      "Building wheels for collected packages: Digital-twin\n",
      "\u001b[33m  DEPRECATION: Building 'Digital-twin' using the legacy setup.py bdist_wheel mechanism, which will be removed in a future version. pip 25.3 will enforce this behaviour change. A possible replacement is to use the standardized build interface by setting the `--use-pep517` option, (possibly combined with `--no-build-isolation`), or adding a `pyproject.toml` file to the source tree of 'Digital-twin'. Discussion can be found at https://github.com/pypa/pip/issues/6334\u001b[0m\u001b[33m\n",
      "\u001b[0m  Building wheel for Digital-twin (setup.py) ... \u001b[?25lerror\n",
      "  \u001b[1;31merror\u001b[0m: \u001b[1msubprocess-exited-with-error\u001b[0m\n",
      "  \n",
      "  \u001b[31m×\u001b[0m \u001b[32mpython setup.py bdist_wheel\u001b[0m did not run successfully.\n",
      "  \u001b[31m│\u001b[0m exit code: \u001b[1;36m1\u001b[0m\n",
      "  \u001b[31m╰─>\u001b[0m \u001b[31m[2 lines of output]\u001b[0m\n",
      "  \u001b[31m   \u001b[0m running bdist_wheel\n",
      "  \u001b[31m   \u001b[0m error: error in 'egg_base' option: 'src' does not exist or is not a directory\n",
      "  \u001b[31m   \u001b[0m \u001b[31m[end of output]\u001b[0m\n",
      "  \n",
      "  \u001b[1;35mnote\u001b[0m: This error originates from a subprocess, and is likely not a problem with pip.\n",
      "\u001b[31m  ERROR: Failed building wheel for Digital-twin\u001b[0m\u001b[31m\n",
      "\u001b[0m\u001b[?25h  Running setup.py clean for Digital-twin\n",
      "Failed to build Digital-twin\n",
      "\u001b[31mERROR: Failed to build installable wheels for some pyproject.toml based projects (Digital-twin)\u001b[0m\u001b[31m\n",
      "\u001b[0mNote: you may need to restart the kernel to use updated packages.\n"
     ]
    }
   ],
   "source": [
    "#read the README file for initial conda setup in the console and after run teh following line\n",
    "pip install ."
   ]
  },
  {
   "cell_type": "code",
   "execution_count": 7,
   "id": "db13f39b",
   "metadata": {},
   "outputs": [],
   "source": [
    "import fiona\n",
    "import geopandas as gpd"
   ]
  },
  {
   "cell_type": "code",
   "execution_count": 18,
   "id": "7b587c98",
   "metadata": {},
   "outputs": [],
   "source": [
    "# Pad naar je bestand\n",
    "# Download bestuurlijke grenzen van PDOK.nl\n",
    "path = r\"data\\bestuurlijkegrenzen.gpkg\".replace(\"\\\\\", \"/\")"
   ]
  },
  {
   "cell_type": "code",
   "execution_count": 19,
   "id": "c462be34",
   "metadata": {},
   "outputs": [
    {
     "name": "stdout",
     "output_type": "stream",
     "text": [
      "['gemeenten', 'provincies', 'landsgrens']\n"
     ]
    }
   ],
   "source": [
    "# Bekijk alle lagen\n",
    "layers = fiona.listlayers(path)\n",
    "print(layers)  # ['gemeenten', 'provincies', 'landsgrens']"
   ]
  },
  {
   "cell_type": "code",
   "execution_count": 20,
   "id": "024a8563",
   "metadata": {},
   "outputs": [
    {
     "name": "stdout",
     "output_type": "stream",
     "text": [
      "EPSG:28992\n"
     ]
    }
   ],
   "source": [
    "# import gemeentegebied alkmaar\n",
    "gdf = gpd.read_file(path, layer=\"gemeenten\")\n",
    "alkmaar = gdf[gdf[\"gemeentenaam\"] == \"Alkmaar\"]\n",
    "\n",
    "# Controleer CRS\n",
    "print(alkmaar.crs)"
   ]
  },
  {
   "cell_type": "code",
   "execution_count": 21,
   "id": "d1086c31",
   "metadata": {},
   "outputs": [],
   "source": [
    "# Zet om naar WGS84 (lon/lat)\n",
    "alkmaar_WGS84 = alkmaar.to_crs(epsg=4326)\n",
    "\n",
    "# Kies de eerste polygon als deze een MultiPolygon is\n",
    "if alkmaar_WGS84.geometry.iloc[0].geom_type == \"MultiPolygon\":\n",
    "    alkmaar_WGS84.geometry = alkmaar_WGS84.geometry.apply(\n",
    "        lambda geom: geom.geoms[0] if geom.geom_type == \"MultiPolygon\" else geom\n",
    "    )\n",
    "\n",
    "# Opslaan als nieuwe, enkelvoudige polygon\n",
    "alkmaar_WGS84.to_file(\"data/alkmaar_single_polygon.geojson\", driver=\"GeoJSON\")"
   ]
  }
 ],
 "metadata": {
  "kernelspec": {
   "display_name": "satellite-images-nso-datascience",
   "language": "python",
   "name": "python3"
  },
  "language_info": {
   "codemirror_mode": {
    "name": "ipython",
    "version": 3
   },
   "file_extension": ".py",
   "mimetype": "text/x-python",
   "name": "python",
   "nbconvert_exporter": "python",
   "pygments_lexer": "ipython3",
   "version": "3.12.11"
  }
 },
 "nbformat": 4,
 "nbformat_minor": 5
}
