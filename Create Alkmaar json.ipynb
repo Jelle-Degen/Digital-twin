{
 "cells": [
  {
   "cell_type": "code",
   "execution_count": null,
   "id": "db13f39b",
   "metadata": {},
   "outputs": [],
   "source": [
    "import fiona\n",
    "import geopandas as gpd"
   ]
  },
  {
   "cell_type": "code",
   "execution_count": null,
   "id": "7b587c98",
   "metadata": {},
   "outputs": [],
   "source": [
    "# Pad naar je bestand\n",
    "# Download bestuurlijke grenzen van PDOK.nl\n",
    "path = r\"..\\data\\bestuurlijkegrenzen.gpkg\".replace(\"\\\\\", \"/\")"
   ]
  },
  {
   "cell_type": "code",
   "execution_count": null,
   "id": "c462be34",
   "metadata": {},
   "outputs": [],
   "source": [
    "# Bekijk alle lagen\n",
    "layers = fiona.listlayers(path)\n",
    "print(layers)  # ['gemeenten', 'provincies', 'landsgrens']"
   ]
  },
  {
   "cell_type": "code",
   "execution_count": null,
   "id": "024a8563",
   "metadata": {},
   "outputs": [],
   "source": [
    "# import gemeentegebied alkmaar\n",
    "gdf = gpd.read_file(path, layer=\"gemeenten\")\n",
    "alkmaar = gdf[gdf[\"gemeentenaam\"] == \"Alkmaar\"]\n",
    "\n",
    "# Controleer CRS\n",
    "print(alkmaar.crs)"
   ]
  },
  {
   "cell_type": "code",
   "execution_count": null,
   "id": "d1086c31",
   "metadata": {},
   "outputs": [],
   "source": [
    "\n",
    "# Zet om naar WGS84 (lon/lat)\n",
    "alkmaar_WGS84 = alkmaar.to_crs(epsg=4326)\n",
    "\n",
    "# Kies de eerste polygon als deze een MultiPolygon is\n",
    "if alkmaar_WGS84.geometry.iloc[0].geom_type == \"MultiPolygon\":\n",
    "    alkmaar_WGS84.geometry = alkmaar_WGS84.geometry.apply(\n",
    "        lambda geom: geom.geoms[0] if geom.geom_type == \"MultiPolygon\" else geom\n",
    "    )\n",
    "\n",
    "# Opslaan als nieuwe, enkelvoudige polygon\n",
    "alkmaar_WGS84.to_file(\"../data/alkmaar_single_polygon.geojson\", driver=\"GeoJSON\")"
   ]
  }
 ],
 "metadata": {
  "kernelspec": {
   "display_name": "test_environment",
   "language": "python",
   "name": "python3"
  },
  "language_info": {
   "name": "python",
   "version": "3.10.18"
  }
 },
 "nbformat": 4,
 "nbformat_minor": 5
}
