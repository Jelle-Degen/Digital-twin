{
 "cells": [
  {
   "cell_type": "code",
   "execution_count": null,
   "id": "d243903d",
   "metadata": {},
   "outputs": [],
   "source": [
    "import satellite_images_nso.api.nso_georegion as nso\n",
    "import satellite_images_nso.api.sat_manipulator as sat_manipulator\n",
    "import matplotlib.pyplot as plt\n",
    "import zipfile\n",
    "import os\n",
    "import rasterio"
   ]
  },
  {
   "cell_type": "code",
   "execution_count": null,
   "id": "3acb7376",
   "metadata": {},
   "outputs": [],
   "source": [
    "# Inloggegevens voor nso dataportaal\n",
    "user_name = \"jelledegen\"\n",
    "user_password = \"niqzen-zoVmep-kyhju6\"\n",
    "path_geojson = \"../data/alkmaar_single_polygon.geojson\"\n",
    "output_folder = \"../output/\"\n",
    "\n",
    "# The first parameter is the path to the geojson, the second the map where the cropped satellite data will be downloaded, the third is your NSO username and the last your NSO password.\n",
    "georegion = nso.nso_georegion(\n",
    "    path_to_geojson=path_geojson,\n",
    "    output_folder=output_folder,\n",
    "    username=user_name,\n",
    "    password=user_password,\n",
    ")\n"
   ]
  },
  {
   "cell_type": "code",
   "execution_count": null,
   "id": "bce0bc38",
   "metadata": {},
   "outputs": [],
   "source": [
    "# This method fetches all the download links with all the satellite images the NSO has which contain the region in the given geojson.\n",
    "# Max_diff parameters represents the amount of percentage the selected region has to be in the satellite image.\n",
    "# So 1 is the the selected region has to be fully in the satellite images while 0.7 donates only 70% of the selected region is in the\n",
    "links = georegion.retrieve_download_links(\n",
    "    max_diff=0.5, start_date=\"2022-01-01\", end_date=\"2022-04-01\"\n",
    ")\n",
    "print(f\"Aantal gevonden links: {len(links)}\")"
   ]
  },
  {
   "cell_type": "code",
   "execution_count": null,
   "id": "aabcbd54",
   "metadata": {},
   "outputs": [],
   "source": [
    "# This example filters out only 50 cm RGB Infrared Superview satellite imagery in the summer from all the links\n",
    "season = \"Summer\"\n",
    "links_group = []\n",
    "for link in links:\n",
    "    if \"SV\" in link and \"50cm\" in link and \"RGBI\" in link:\n",
    "        if (\n",
    "            sat_manipulator.get_season_for_month(\n",
    "                int(link.split(\"/\")[len(link.split(\"/\")) - 1][4:6])\n",
    "            )[0]\n",
    "            == season\n",
    "        ):\n",
    "            links_group.append(link)\n",
    "\n",
    "# Downloads a satellite image from the NSO, makes a crop out of it so it fits the geojson region and calculates the NVDI index.\n",
    "# The output will stored in the output folder.\n",
    "# The parameters are : link, delete_zip_file = False, delete_source_files = True,  plot=True, in_image_cloud_percentage = False,  add_ndvi_band = False, add_height_band = False\n",
    "# description of these parameters can be found in the code.\n",
    "georegion.execute_link(links_group[0], add_ndvi_band=True)\n",
    "\n",
    "\n",
    "zip_path = \"../output/deze.zip\"\n",
    "extract_to = \"../output/unzipped/\"\n",
    "\n",
    "# Maak map aan als die nog niet bestaat\n",
    "os.makedirs(extract_to, exist_ok=True)\n",
    "\n",
    "# Unzippen\n",
    "with zipfile.ZipFile(zip_path, \"r\") as zip_ref:\n",
    "    zip_ref.extractall(extract_to)\n"
   ]
  },
  {
   "cell_type": "code",
   "execution_count": null,
   "id": "e4cb81cc",
   "metadata": {},
   "outputs": [],
   "source": [
    "tif_path = \"../output/unzipped/20220719_111417_SV1-03_SV_RD_11bit_RGBI_50cm_Alkmaar.tif\"\n",
    "\n",
    "# Checken welke bands NIR en red zijn\n",
    "with rasterio.open(tif_path) as src:\n",
    "    print(f\"Aantal banden: {src.count}\")\n",
    "    print(f\"Band omschrijvingen: {src.descriptions}\")  # soms leeg\n",
    "    for i in range(1, src.count + 1):\n",
    "        band = src.read(i)\n",
    "        print(f\"Band {i} shape: {band.shape}, min: {band.min()}, max: {band.max()}\")\n",
    "\n",
    "with rasterio.open(tif_path) as src:\n",
    "    red = src.read(3).astype(float)\n",
    "    nir = src.read(4).astype(float)\n",
    "\n",
    "# NDVI berekenen\n",
    "ndvi = (nir - red) / (nir + red + 1e-10)\n",
    "\n",
    "# plotten van NDVI map\n",
    "plt.figure(figsize=(10, 10))\n",
    "plt.imshow(ndvi, cmap=\"RdYlGn\")\n",
    "plt.colorbar(label=\"NDVI waarde\")\n",
    "plt.title(\"NDVI beeld\")\n",
    "plt.axis(\"off\")\n",
    "plt.show()\n"
   ]
  }
 ],
 "metadata": {
  "language_info": {
   "name": "python"
  }
 },
 "nbformat": 4,
 "nbformat_minor": 5
}
